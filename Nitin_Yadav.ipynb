{
  "nbformat": 4,
  "nbformat_minor": 0,
  "metadata": {
    "colab": {
      "name": "Nitin Yadav.ipynb",
      "provenance": []
    },
    "kernelspec": {
      "name": "python3",
      "display_name": "Python 3"
    },
    "language_info": {
      "name": "python"
    }
  },
  "cells": [
    {
      "cell_type": "code",
      "metadata": {
        "colab": {
          "base_uri": "https://localhost:8080/"
        },
        "id": "HS9wb9Wd2NX2",
        "outputId": "c3650df6-d9ce-444a-9919-3e5c3a4bfac1"
      },
      "source": [
        "import numpy as np\n",
        "import pandas as pd\n",
        "import sklearn\n",
        "\n",
        "from sklearn.datasets import load_boston\n",
        "df=load_boston()\n",
        "df.keys()\n",
        "\n",
        "bstn=pd.DataFrame(df.data,columns=df.feature_names)\n",
        "\n",
        "bstn['MEDP']=df.target\n",
        "bstn.head()\n",
        "bstn.isnull()\n",
        "bstn.isnull().sum()\n",
        "\n",
        "\n",
        "from sklearn.model_selection import train_test_split\n",
        "X=bstn.drop('MEDP',axis=1)\n",
        "Y=bstn['MEDP']\n",
        "X_trn,X_tst,Y_trn,Y_tst=train_test_split(X,Y,test_size=0.15,random_state=5)\n",
        "\n",
        "print(X_trn.shape)\n",
        "print(X_tst.shape)\n",
        "print(Y_trn.shape)\n",
        "print(Y_tst.shape)\n",
        "\n",
        "\n",
        "from sklearn.linear_model import LinearRegression\n",
        "from sklearn.metrics import mean_squared_error\n",
        "\n",
        "ln_model=LinearRegression()\n",
        "ln_model.fit(X_trn,Y_trn)\n",
        "\n",
        "y_trn_predict =ln_model.predict(X_trn)\n",
        "rmse=(np.sqrt(mean_squared_error(Y_trn, y_trn_predict)))\n",
        "\n",
        "print(\"The model performance for training set\")\n",
        "print('RMSE is {}'.format(rmse))\n",
        "print(\"\\n\")\n",
        "\n",
        "y_tst_predict =ln_model.predict(X_tst)\n",
        "rmse=(np.sqrt(mean_squared_error(Y_tst, y_tst_predict)))\n",
        "\n",
        "print(\"The model performance for testing set\")\n",
        "print('RMSE is {}'.format(rmse))"
      ],
      "execution_count": 13,
      "outputs": [
        {
          "output_type": "stream",
          "text": [
            "(430, 13)\n",
            "(76, 13)\n",
            "(430,)\n",
            "(76,)\n",
            "The model performance for training set\n",
            "RMSE is 4.710901797319796\n",
            "\n",
            "\n",
            "The model performance for testing set\n",
            "RMSE is 4.687543527902972\n"
          ],
          "name": "stdout"
        }
      ]
    }
  ]
}